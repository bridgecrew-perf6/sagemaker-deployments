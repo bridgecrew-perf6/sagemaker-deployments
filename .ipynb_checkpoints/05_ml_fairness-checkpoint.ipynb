{
 "cells": [
  {
   "cell_type": "code",
   "execution_count": 2,
   "metadata": {},
   "outputs": [
    {
     "name": "stdout",
     "output_type": "stream",
     "text": [
      "/opt/conda/lib/python3.7/site-packages/secretstorage/dhcrypto.py:16: CryptographyDeprecationWarning: int_from_bytes is deprecated, use int.from_bytes instead\n",
      "  from cryptography.utils import int_from_bytes\n",
      "/opt/conda/lib/python3.7/site-packages/secretstorage/util.py:25: CryptographyDeprecationWarning: int_from_bytes is deprecated, use int.from_bytes instead\n",
      "  from cryptography.utils import int_from_bytes\n",
      "Requirement already satisfied: pip in /opt/conda/lib/python3.7/site-packages (21.3.1)\n",
      "Collecting pip\n",
      "  Using cached pip-22.0.4-py3-none-any.whl (2.1 MB)\n",
      "Installing collected packages: pip\n",
      "  Attempting uninstall: pip\n",
      "    Found existing installation: pip 21.3.1\n",
      "    Uninstalling pip-21.3.1:\n",
      "      Successfully uninstalled pip-21.3.1\n",
      "Successfully installed pip-22.0.4\n",
      "\u001b[33mWARNING: Running pip as the 'root' user can result in broken permissions and conflicting behaviour with the system package manager. It is recommended to use a virtual environment instead: https://pip.pypa.io/warnings/venv\u001b[0m\n",
      "/opt/conda/lib/python3.7/site-packages/secretstorage/dhcrypto.py:16: CryptographyDeprecationWarning: int_from_bytes is deprecated, use int.from_bytes instead\n",
      "  from cryptography.utils import int_from_bytes\n",
      "/opt/conda/lib/python3.7/site-packages/secretstorage/util.py:25: CryptographyDeprecationWarning: int_from_bytes is deprecated, use int.from_bytes instead\n",
      "  from cryptography.utils import int_from_bytes\n",
      "\u001b[33mWARNING: Running pip as the 'root' user can result in broken permissions and conflicting behaviour with the system package manager. It is recommended to use a virtual environment instead: https://pip.pypa.io/warnings/venv\u001b[0m\u001b[33m\n",
      "\u001b[0m"
     ]
    }
   ],
   "source": [
    "!pip install --upgrade pip\n",
    "!pip install -q sagemaker-experiments"
   ]
  },
  {
   "cell_type": "code",
   "execution_count": 3,
   "metadata": {},
   "outputs": [],
   "source": [
    "import sagemaker\n",
    "import boto3\n",
    "\n",
    "session = sagemaker.Session()\n",
    "role = sagemaker.get_execution_role()\n",
    "bucket = session.default_bucket()\n",
    "region = session.boto_region_name\n",
    "prefix = 'sagemaker-ml-fairness'"
   ]
  },
  {
   "cell_type": "code",
   "execution_count": 4,
   "metadata": {},
   "outputs": [],
   "source": [
    "from datetime import datetime, timedelta, timezone\n",
    "import json, re, os, uuid\n",
    "from time import sleep, gmtime, strftime\n",
    "\n",
    "import pandas as pd\n",
    "import numpy as np\n",
    "import matplotlib.pyplot as plt\n",
    "plt.style.use('fivethirtyeight')\n",
    "\n",
    "from smexperiments.experiment import Experiment\n",
    "from smexperiments.trial import Trial\n",
    "from botocore.exceptions import ClientError\n",
    "\n",
    "from sagemaker import image_uris\n",
    "from sagemaker.s3 import S3Uploader, S3Downloader\n",
    "from sagemaker.inputs import TrainingInput\n",
    "\n",
    "from sagemaker import clarify"
   ]
  },
  {
   "cell_type": "code",
   "execution_count": 5,
   "metadata": {},
   "outputs": [],
   "source": [
    "orig_columns=['age', 'workclass', 'fnlwgt', 'education', 'education-num', 'marital-status', \n",
    "              'occupation', 'relationship', 'race', 'sex', 'capital-gain', 'capital-loss', \n",
    "              'hours-per-week', 'native-country', 'target']\n",
    "\n",
    "df=pd.read_csv('https://archive.ics.uci.edu/ml/machine-learning-databases/adult/adult.data',\n",
    "              names=orig_columns, sep=r'\\s*,\\s*', na_values='?', engine='python')\n",
    "df_valtest=pd.read_csv('https://archive.ics.uci.edu/ml/machine-learning-databases/adult/adult.test', \n",
    "               names=orig_columns, skiprows=1, sep=r'\\s*,\\s*', na_values='?', engine='python')\n",
    "df.drop(columns='education', inplace=True)\n",
    "df_valtest.drop(columns='education', inplace=True)\n",
    "df_valtest['target'] = df_valtest['target'].replace(to_replace=['<=50K.', '>50K.'], \n",
    "                                                    value=['<=50K', '>50K'])\n",
    "\n",
    "# move the target column to first for XGBoost\n",
    "new_columns = df.columns.tolist()\n",
    "new_columns = [new_columns[-1]] + new_columns[:-1]\n",
    "df = df[new_columns]\n",
    "df_valtest=df_valtest[new_columns]"
   ]
  },
  {
   "cell_type": "code",
   "execution_count": 6,
   "metadata": {},
   "outputs": [
    {
     "data": {
      "text/html": [
       "<div>\n",
       "<style scoped>\n",
       "    .dataframe tbody tr th:only-of-type {\n",
       "        vertical-align: middle;\n",
       "    }\n",
       "\n",
       "    .dataframe tbody tr th {\n",
       "        vertical-align: top;\n",
       "    }\n",
       "\n",
       "    .dataframe thead th {\n",
       "        text-align: right;\n",
       "    }\n",
       "</style>\n",
       "<table border=\"1\" class=\"dataframe\">\n",
       "  <thead>\n",
       "    <tr style=\"text-align: right;\">\n",
       "      <th></th>\n",
       "      <th>target</th>\n",
       "      <th>age</th>\n",
       "      <th>workclass</th>\n",
       "      <th>fnlwgt</th>\n",
       "      <th>education-num</th>\n",
       "      <th>marital-status</th>\n",
       "      <th>occupation</th>\n",
       "      <th>relationship</th>\n",
       "      <th>race</th>\n",
       "      <th>sex</th>\n",
       "      <th>capital-gain</th>\n",
       "      <th>capital-loss</th>\n",
       "      <th>hours-per-week</th>\n",
       "      <th>native-country</th>\n",
       "    </tr>\n",
       "  </thead>\n",
       "  <tbody>\n",
       "    <tr>\n",
       "      <th>0</th>\n",
       "      <td>&lt;=50K</td>\n",
       "      <td>39</td>\n",
       "      <td>State-gov</td>\n",
       "      <td>77516</td>\n",
       "      <td>13</td>\n",
       "      <td>Never-married</td>\n",
       "      <td>Adm-clerical</td>\n",
       "      <td>Not-in-family</td>\n",
       "      <td>White</td>\n",
       "      <td>Male</td>\n",
       "      <td>2174</td>\n",
       "      <td>0</td>\n",
       "      <td>40</td>\n",
       "      <td>United-States</td>\n",
       "    </tr>\n",
       "    <tr>\n",
       "      <th>1</th>\n",
       "      <td>&lt;=50K</td>\n",
       "      <td>50</td>\n",
       "      <td>Self-emp-not-inc</td>\n",
       "      <td>83311</td>\n",
       "      <td>13</td>\n",
       "      <td>Married-civ-spouse</td>\n",
       "      <td>Exec-managerial</td>\n",
       "      <td>Husband</td>\n",
       "      <td>White</td>\n",
       "      <td>Male</td>\n",
       "      <td>0</td>\n",
       "      <td>0</td>\n",
       "      <td>13</td>\n",
       "      <td>United-States</td>\n",
       "    </tr>\n",
       "    <tr>\n",
       "      <th>2</th>\n",
       "      <td>&lt;=50K</td>\n",
       "      <td>38</td>\n",
       "      <td>Private</td>\n",
       "      <td>215646</td>\n",
       "      <td>9</td>\n",
       "      <td>Divorced</td>\n",
       "      <td>Handlers-cleaners</td>\n",
       "      <td>Not-in-family</td>\n",
       "      <td>White</td>\n",
       "      <td>Male</td>\n",
       "      <td>0</td>\n",
       "      <td>0</td>\n",
       "      <td>40</td>\n",
       "      <td>United-States</td>\n",
       "    </tr>\n",
       "    <tr>\n",
       "      <th>3</th>\n",
       "      <td>&lt;=50K</td>\n",
       "      <td>53</td>\n",
       "      <td>Private</td>\n",
       "      <td>234721</td>\n",
       "      <td>7</td>\n",
       "      <td>Married-civ-spouse</td>\n",
       "      <td>Handlers-cleaners</td>\n",
       "      <td>Husband</td>\n",
       "      <td>Black</td>\n",
       "      <td>Male</td>\n",
       "      <td>0</td>\n",
       "      <td>0</td>\n",
       "      <td>40</td>\n",
       "      <td>United-States</td>\n",
       "    </tr>\n",
       "    <tr>\n",
       "      <th>4</th>\n",
       "      <td>&lt;=50K</td>\n",
       "      <td>28</td>\n",
       "      <td>Private</td>\n",
       "      <td>338409</td>\n",
       "      <td>13</td>\n",
       "      <td>Married-civ-spouse</td>\n",
       "      <td>Prof-specialty</td>\n",
       "      <td>Wife</td>\n",
       "      <td>Black</td>\n",
       "      <td>Female</td>\n",
       "      <td>0</td>\n",
       "      <td>0</td>\n",
       "      <td>40</td>\n",
       "      <td>Cuba</td>\n",
       "    </tr>\n",
       "  </tbody>\n",
       "</table>\n",
       "</div>"
      ],
      "text/plain": [
       "  target  age         workclass  fnlwgt  education-num      marital-status  \\\n",
       "0  <=50K   39         State-gov   77516             13       Never-married   \n",
       "1  <=50K   50  Self-emp-not-inc   83311             13  Married-civ-spouse   \n",
       "2  <=50K   38           Private  215646              9            Divorced   \n",
       "3  <=50K   53           Private  234721              7  Married-civ-spouse   \n",
       "4  <=50K   28           Private  338409             13  Married-civ-spouse   \n",
       "\n",
       "          occupation   relationship   race     sex  capital-gain  \\\n",
       "0       Adm-clerical  Not-in-family  White    Male          2174   \n",
       "1    Exec-managerial        Husband  White    Male             0   \n",
       "2  Handlers-cleaners  Not-in-family  White    Male             0   \n",
       "3  Handlers-cleaners        Husband  Black    Male             0   \n",
       "4     Prof-specialty           Wife  Black  Female             0   \n",
       "\n",
       "   capital-loss  hours-per-week native-country  \n",
       "0             0              40  United-States  \n",
       "1             0              13  United-States  \n",
       "2             0              40  United-States  \n",
       "3             0              40  United-States  \n",
       "4             0              40           Cuba  "
      ]
     },
     "execution_count": 6,
     "metadata": {},
     "output_type": "execute_result"
    }
   ],
   "source": [
    "df.head()"
   ]
  },
  {
   "cell_type": "code",
   "execution_count": 7,
   "metadata": {},
   "outputs": [],
   "source": [
    "from sklearn import preprocessing\n",
    "\n",
    "categorical_columns = df.select_dtypes(include='object').columns\n",
    "\n",
    "encoder = preprocessing.OrdinalEncoder(dtype=int)\n",
    "\n",
    "df[categorical_columns] = encoder.fit_transform(df[categorical_columns].fillna('NaN'))\n",
    "df_valtest[categorical_columns]=encoder.transform(df_valtest[categorical_columns].fillna('NaN'))"
   ]
  },
  {
   "cell_type": "code",
   "execution_count": 8,
   "metadata": {},
   "outputs": [],
   "source": [
    "from sklearn.model_selection import train_test_split\n",
    "df_val, df_test = train_test_split(df_valtest, test_size=0.9, random_state=43, shuffle=True, stratify=df_valtest['target'])"
   ]
  },
  {
   "cell_type": "code",
   "execution_count": 9,
   "metadata": {},
   "outputs": [
    {
     "data": {
      "text/plain": [
       "((32561, 14), (16281, 14), (1628, 14), (14653, 14))"
      ]
     },
     "execution_count": 9,
     "metadata": {},
     "output_type": "execute_result"
    }
   ],
   "source": [
    "df.shape, df_valtest.shape, df_val.shape, df_test.shape"
   ]
  },
  {
   "cell_type": "code",
   "execution_count": 10,
   "metadata": {},
   "outputs": [
    {
     "data": {
      "text/plain": [
       "Text(0.5, 0, 'Sex (0: Female, 1: Male)')"
      ]
     },
     "execution_count": 10,
     "metadata": {},
     "output_type": "execute_result"
    },
    {
     "data": {
      "image/png": "[encoded data removed]",
      "text/plain": [
       "<Figure size 432x288 with 1 Axes>"
      ]
     },
     "metadata": {},
     "output_type": "display_data"
    }
   ],
   "source": [
    "df['sex'].value_counts(sort=False).plot(kind='bar', title='Total count by sex', rot=0)\n",
    "plt.xlabel('Sex (0: Female, 1: Male)')"
   ]
  },
  {
   "cell_type": "code",
   "execution_count": 11,
   "metadata": {},
   "outputs": [
    {
     "data": {
      "text/plain": [
       "Text(0.5, 0, 'target (0: <=50K, 1: >50K)')"
      ]
     },
     "execution_count": 11,
     "metadata": {},
     "output_type": "execute_result"
    },
    {
     "data": {
      "image/png": "[encoded data removed]",
      "text/plain": [
       "<Figure size 432x288 with 1 Axes>"
      ]
     },
     "metadata": {},
     "output_type": "display_data"
    }
   ],
   "source": [
    "df['target'].value_counts(sort=False).plot(kind='bar', title='Target distribution', rot=0)\n",
    "plt.xlabel('target (0: <=50K, 1: >50K)')"
   ]
  },
  {
   "cell_type": "code",
   "execution_count": 12,
   "metadata": {},
   "outputs": [
    {
     "data": {
      "text/plain": [
       "1    21790\n",
       "0    10771\n",
       "Name: sex, dtype: int64"
      ]
     },
     "execution_count": 12,
     "metadata": {},
     "output_type": "execute_result"
    }
   ],
   "source": [
    "df['sex'].value_counts()"
   ]
  },
  {
   "cell_type": "code",
   "execution_count": 13,
   "metadata": {},
   "outputs": [
    {
     "data": {
      "text/plain": [
       "Text(0.5, 0, 'Sex (0: Female, 1: Male)')"
      ]
     },
     "execution_count": 13,
     "metadata": {},
     "output_type": "execute_result"
    },
    {
     "data": {
      "image/png": "[encoded data removed]",
      "text/plain": [
       "<Figure size 432x288 with 1 Axes>"
      ]
     },
     "metadata": {},
     "output_type": "display_data"
    }
   ],
   "source": [
    "df[df['target']==1]['sex'].value_counts(sort=False).plot(kind='bar', title='Earning >$50k by sex', rot=0)\n",
    "plt.xlabel('Sex (0: Female, 1: Male)')"
   ]
  },
  {
   "cell_type": "code",
   "execution_count": 14,
   "metadata": {},
   "outputs": [],
   "source": [
    "os.makedirs('adult', exist_ok=True)\n",
    "\n",
    "df.to_csv('adult/adult-data-train.csv', index=False, header=False)\n",
    "df_val.to_csv('adult/adult-data-val.csv', index=False, header=False)\n",
    "\n",
    "train_s3_uri = S3Uploader.upload('adult/adult-data-train.csv', f's3://{bucket}/{prefix}/adult-data')\n",
    "val_s3_uri = S3Uploader.upload('adult/adult-data-val.csv', f's3://{bucket}/{prefix}/adult-data')"
   ]
  },
  {
   "cell_type": "code",
   "execution_count": 15,
   "metadata": {},
   "outputs": [
    {
     "name": "stderr",
     "output_type": "stream",
     "text": [
      "INFO:sagemaker.image_uris:Defaulting to the only supported framework/algorithm version: 1.0.\n",
      "INFO:sagemaker.image_uris:Ignoring unnecessary instance type: None.\n"
     ]
    }
   ],
   "source": [
    "from sagemaker import clarify\n",
    "\n",
    "clarify_processor = clarify.SageMakerClarifyProcessor(\n",
    "    role = role,\n",
    "    instance_count = 1,\n",
    "    instance_type = 'ml.c5.2xlarge',\n",
    "    sagemaker_session = session)"
   ]
  },
  {
   "cell_type": "code",
   "execution_count": 16,
   "metadata": {},
   "outputs": [],
   "source": [
    "experiment_name = 'adult-income-clarify'\n",
    "\n",
    "try:\n",
    "    experiment = Experiment.create(\n",
    "        experiment_name = experiment_name,\n",
    "        description = 'adult income clarify experiment')\n",
    "except ClientError as e:\n",
    "    print(f'{experiment_name} already exists. Reusing existing experiment')"
   ]
  },
  {
   "cell_type": "code",
   "execution_count": 17,
   "metadata": {},
   "outputs": [],
   "source": [
    "exp_datetime_1 = strftime('%Y-%m-%d-%H-%M-%S', gmtime())\n",
    "\n",
    "exp_trial_1 = Trial.create(\n",
    "    experiment_name = experiment_name,\n",
    "    trial_name = exp_datetime_1)\n",
    "\n",
    "experiment_config = {\n",
    "    'ExperimentName': experiment_name,\n",
    "    'TrialName': exp_trial_1.trial_name,\n",
    "    'TrialComponentDisplayName': 'Pretraining-BiasAnalysis'}"
   ]
  },
  {
   "cell_type": "code",
   "execution_count": 18,
   "metadata": {},
   "outputs": [],
   "source": [
    "pretraining_bias_report_output_path = f's3://{bucket}/{prefix}/{experiment_name}-{exp_trial_1.trial_name}/clarify-pretraining-bias'\n",
    "\n",
    "bias_data_config = clarify.DataConfig(\n",
    "    s3_data_input_path = train_s3_uri,\n",
    "    s3_output_path = pretraining_bias_report_output_path,\n",
    "    label = 'target',\n",
    "    headers = df.columns.tolist(),\n",
    "    dataset_type = 'text/csv')"
   ]
  },
  {
   "cell_type": "code",
   "execution_count": 19,
   "metadata": {},
   "outputs": [],
   "source": [
    "bias_config = clarify.BiasConfig(\n",
    "    label_values_or_threshold = [1],\n",
    "    facet_name = ['sex', 'race'],\n",
    "    facet_values_or_threshold = [[0], None])"
   ]
  },
  {
   "cell_type": "code",
   "execution_count": 20,
   "metadata": {},
   "outputs": [
    {
     "name": "stderr",
     "output_type": "stream",
     "text": [
      "INFO:sagemaker:Creating processing-job with name adult-clarify-pretraining-bias-2022-04-14-21-36-41\n"
     ]
    },
    {
     "name": "stdout",
     "output_type": "stream",
     "text": [
      "\n",
      "Job Name:  adult-clarify-pretraining-bias-2022-04-14-21-36-41\n",
      "Inputs:  [{'InputName': 'dataset', 'AppManaged': False, 'S3Input': {'S3Uri': 's3://sagemaker-us-east-1-104877823522/sagemaker-ml-fairness/adult-data/adult-data-train.csv', 'LocalPath': '/opt/ml/processing/input/data', 'S3DataType': 'S3Prefix', 'S3InputMode': 'File', 'S3DataDistributionType': 'FullyReplicated', 'S3CompressionType': 'None'}}, {'InputName': 'analysis_config', 'AppManaged': False, 'S3Input': {'S3Uri': 's3://sagemaker-us-east-1-104877823522/sagemaker-ml-fairness/adult-income-clarify-2022-04-14-21-36-41/clarify-pretraining-bias/analysis_config.json', 'LocalPath': '/opt/ml/processing/input/config', 'S3DataType': 'S3Prefix', 'S3InputMode': 'File', 'S3DataDistributionType': 'FullyReplicated', 'S3CompressionType': 'None'}}]\n",
      "Outputs:  [{'OutputName': 'analysis_result', 'AppManaged': False, 'S3Output': {'S3Uri': 's3://sagemaker-us-east-1-104877823522/sagemaker-ml-fairness/adult-income-clarify-2022-04-14-21-36-41/clarify-pretraining-bias', 'LocalPath': '/opt/ml/processing/output', 'S3UploadMode': 'EndOfJob'}}]\n"
     ]
    }
   ],
   "source": [
    "jobname = f'adult-clarify-pretraining-bias-{exp_datetime_1}'\n",
    "\n",
    "clarify_processor.run_pre_training_bias(\n",
    "    data_config = bias_data_config,\n",
    "    data_bias_config = bias_config,\n",
    "    methods='all',\n",
    "    job_name=jobname,\n",
    "    experiment_config = experiment_config,\n",
    "    wait=False,\n",
    "    logs=False)"
   ]
  },
  {
   "cell_type": "code",
   "execution_count": 21,
   "metadata": {},
   "outputs": [],
   "source": [
    "# Mitigating bias\n",
    "\n",
    "max_female_sample = df.groupby(['sex', 'target'], group_keys=False).count().loc[(0, 1)]['age']\n"
   ]
  },
  {
   "cell_type": "code",
   "execution_count": 22,
   "metadata": {},
   "outputs": [
    {
     "data": {
      "text/html": [
       "<div>\n",
       "<style scoped>\n",
       "    .dataframe tbody tr th:only-of-type {\n",
       "        vertical-align: middle;\n",
       "    }\n",
       "\n",
       "    .dataframe tbody tr th {\n",
       "        vertical-align: top;\n",
       "    }\n",
       "\n",
       "    .dataframe thead th {\n",
       "        text-align: right;\n",
       "    }\n",
       "</style>\n",
       "<table border=\"1\" class=\"dataframe\">\n",
       "  <thead>\n",
       "    <tr style=\"text-align: right;\">\n",
       "      <th></th>\n",
       "      <th>target</th>\n",
       "      <th>age</th>\n",
       "      <th>workclass</th>\n",
       "      <th>fnlwgt</th>\n",
       "      <th>education-num</th>\n",
       "      <th>marital-status</th>\n",
       "      <th>occupation</th>\n",
       "      <th>relationship</th>\n",
       "      <th>race</th>\n",
       "      <th>sex</th>\n",
       "      <th>capital-gain</th>\n",
       "      <th>capital-loss</th>\n",
       "      <th>hours-per-week</th>\n",
       "      <th>native-country</th>\n",
       "    </tr>\n",
       "  </thead>\n",
       "  <tbody>\n",
       "    <tr>\n",
       "      <th>20797</th>\n",
       "      <td>0</td>\n",
       "      <td>41</td>\n",
       "      <td>2</td>\n",
       "      <td>129155</td>\n",
       "      <td>7</td>\n",
       "      <td>6</td>\n",
       "      <td>7</td>\n",
       "      <td>2</td>\n",
       "      <td>2</td>\n",
       "      <td>0</td>\n",
       "      <td>0</td>\n",
       "      <td>0</td>\n",
       "      <td>40</td>\n",
       "      <td>39</td>\n",
       "    </tr>\n",
       "    <tr>\n",
       "      <th>11137</th>\n",
       "      <td>0</td>\n",
       "      <td>51</td>\n",
       "      <td>4</td>\n",
       "      <td>174754</td>\n",
       "      <td>9</td>\n",
       "      <td>4</td>\n",
       "      <td>8</td>\n",
       "      <td>1</td>\n",
       "      <td>2</td>\n",
       "      <td>0</td>\n",
       "      <td>0</td>\n",
       "      <td>0</td>\n",
       "      <td>38</td>\n",
       "      <td>39</td>\n",
       "    </tr>\n",
       "    <tr>\n",
       "      <th>26660</th>\n",
       "      <td>0</td>\n",
       "      <td>24</td>\n",
       "      <td>6</td>\n",
       "      <td>34918</td>\n",
       "      <td>11</td>\n",
       "      <td>4</td>\n",
       "      <td>8</td>\n",
       "      <td>4</td>\n",
       "      <td>4</td>\n",
       "      <td>0</td>\n",
       "      <td>0</td>\n",
       "      <td>0</td>\n",
       "      <td>38</td>\n",
       "      <td>39</td>\n",
       "    </tr>\n",
       "    <tr>\n",
       "      <th>12675</th>\n",
       "      <td>0</td>\n",
       "      <td>22</td>\n",
       "      <td>4</td>\n",
       "      <td>154422</td>\n",
       "      <td>10</td>\n",
       "      <td>0</td>\n",
       "      <td>12</td>\n",
       "      <td>3</td>\n",
       "      <td>1</td>\n",
       "      <td>0</td>\n",
       "      <td>0</td>\n",
       "      <td>0</td>\n",
       "      <td>30</td>\n",
       "      <td>30</td>\n",
       "    </tr>\n",
       "    <tr>\n",
       "      <th>17829</th>\n",
       "      <td>0</td>\n",
       "      <td>23</td>\n",
       "      <td>4</td>\n",
       "      <td>103064</td>\n",
       "      <td>13</td>\n",
       "      <td>4</td>\n",
       "      <td>13</td>\n",
       "      <td>1</td>\n",
       "      <td>4</td>\n",
       "      <td>0</td>\n",
       "      <td>0</td>\n",
       "      <td>0</td>\n",
       "      <td>40</td>\n",
       "      <td>39</td>\n",
       "    </tr>\n",
       "    <tr>\n",
       "      <th>...</th>\n",
       "      <td>...</td>\n",
       "      <td>...</td>\n",
       "      <td>...</td>\n",
       "      <td>...</td>\n",
       "      <td>...</td>\n",
       "      <td>...</td>\n",
       "      <td>...</td>\n",
       "      <td>...</td>\n",
       "      <td>...</td>\n",
       "      <td>...</td>\n",
       "      <td>...</td>\n",
       "      <td>...</td>\n",
       "      <td>...</td>\n",
       "      <td>...</td>\n",
       "    </tr>\n",
       "    <tr>\n",
       "      <th>6533</th>\n",
       "      <td>1</td>\n",
       "      <td>35</td>\n",
       "      <td>4</td>\n",
       "      <td>188069</td>\n",
       "      <td>14</td>\n",
       "      <td>4</td>\n",
       "      <td>10</td>\n",
       "      <td>1</td>\n",
       "      <td>4</td>\n",
       "      <td>1</td>\n",
       "      <td>13550</td>\n",
       "      <td>0</td>\n",
       "      <td>55</td>\n",
       "      <td>26</td>\n",
       "    </tr>\n",
       "    <tr>\n",
       "      <th>12383</th>\n",
       "      <td>1</td>\n",
       "      <td>45</td>\n",
       "      <td>4</td>\n",
       "      <td>199058</td>\n",
       "      <td>14</td>\n",
       "      <td>2</td>\n",
       "      <td>3</td>\n",
       "      <td>0</td>\n",
       "      <td>4</td>\n",
       "      <td>1</td>\n",
       "      <td>7298</td>\n",
       "      <td>0</td>\n",
       "      <td>50</td>\n",
       "      <td>39</td>\n",
       "    </tr>\n",
       "    <tr>\n",
       "      <th>16277</th>\n",
       "      <td>1</td>\n",
       "      <td>34</td>\n",
       "      <td>4</td>\n",
       "      <td>103408</td>\n",
       "      <td>10</td>\n",
       "      <td>0</td>\n",
       "      <td>10</td>\n",
       "      <td>1</td>\n",
       "      <td>2</td>\n",
       "      <td>1</td>\n",
       "      <td>0</td>\n",
       "      <td>0</td>\n",
       "      <td>40</td>\n",
       "      <td>10</td>\n",
       "    </tr>\n",
       "    <tr>\n",
       "      <th>1771</th>\n",
       "      <td>1</td>\n",
       "      <td>50</td>\n",
       "      <td>4</td>\n",
       "      <td>171338</td>\n",
       "      <td>10</td>\n",
       "      <td>2</td>\n",
       "      <td>3</td>\n",
       "      <td>0</td>\n",
       "      <td>4</td>\n",
       "      <td>1</td>\n",
       "      <td>99999</td>\n",
       "      <td>0</td>\n",
       "      <td>50</td>\n",
       "      <td>39</td>\n",
       "    </tr>\n",
       "    <tr>\n",
       "      <th>25760</th>\n",
       "      <td>1</td>\n",
       "      <td>48</td>\n",
       "      <td>7</td>\n",
       "      <td>120131</td>\n",
       "      <td>9</td>\n",
       "      <td>0</td>\n",
       "      <td>2</td>\n",
       "      <td>3</td>\n",
       "      <td>4</td>\n",
       "      <td>1</td>\n",
       "      <td>8614</td>\n",
       "      <td>0</td>\n",
       "      <td>40</td>\n",
       "      <td>39</td>\n",
       "    </tr>\n",
       "  </tbody>\n",
       "</table>\n",
       "<p>4716 rows × 14 columns</p>\n",
       "</div>"
      ],
      "text/plain": [
       "       target  age  workclass  fnlwgt  education-num  marital-status  \\\n",
       "20797       0   41          2  129155              7               6   \n",
       "11137       0   51          4  174754              9               4   \n",
       "26660       0   24          6   34918             11               4   \n",
       "12675       0   22          4  154422             10               0   \n",
       "17829       0   23          4  103064             13               4   \n",
       "...       ...  ...        ...     ...            ...             ...   \n",
       "6533        1   35          4  188069             14               4   \n",
       "12383       1   45          4  199058             14               2   \n",
       "16277       1   34          4  103408             10               0   \n",
       "1771        1   50          4  171338             10               2   \n",
       "25760       1   48          7  120131              9               0   \n",
       "\n",
       "       occupation  relationship  race  sex  capital-gain  capital-loss  \\\n",
       "20797           7             2     2    0             0             0   \n",
       "11137           8             1     2    0             0             0   \n",
       "26660           8             4     4    0             0             0   \n",
       "12675          12             3     1    0             0             0   \n",
       "17829          13             1     4    0             0             0   \n",
       "...           ...           ...   ...  ...           ...           ...   \n",
       "6533           10             1     4    1         13550             0   \n",
       "12383           3             0     4    1          7298             0   \n",
       "16277          10             1     2    1             0             0   \n",
       "1771            3             0     4    1         99999             0   \n",
       "25760           2             3     4    1          8614             0   \n",
       "\n",
       "       hours-per-week  native-country  \n",
       "20797              40              39  \n",
       "11137              38              39  \n",
       "26660              38              39  \n",
       "12675              30              30  \n",
       "17829              40              39  \n",
       "...               ...             ...  \n",
       "6533               55              26  \n",
       "12383              50              39  \n",
       "16277              40              10  \n",
       "1771               50              39  \n",
       "25760              40              39  \n",
       "\n",
       "[4716 rows x 14 columns]"
      ]
     },
     "execution_count": 22,
     "metadata": {},
     "output_type": "execute_result"
    }
   ],
   "source": [
    "df_sampled = df.groupby(['sex', 'target'], group_keys=False).apply(lambda x: x.sample(max_female_sample))\n",
    "df_sampled"
   ]
  },
  {
   "cell_type": "code",
   "execution_count": 23,
   "metadata": {},
   "outputs": [
    {
     "data": {
      "text/plain": [
       "(4716, 14)"
      ]
     },
     "execution_count": 23,
     "metadata": {},
     "output_type": "execute_result"
    }
   ],
   "source": [
    "df_sampled.shape"
   ]
  },
  {
   "cell_type": "code",
   "execution_count": 24,
   "metadata": {},
   "outputs": [
    {
     "data": {
      "text/plain": [
       "<matplotlib.axes._subplots.AxesSubplot at 0x7fe7b8fb7590>"
      ]
     },
     "execution_count": 24,
     "metadata": {},
     "output_type": "execute_result"
    },
    {
     "data": {
      "image/png": "[encoded data removed]",
      "text/plain": [
       "<Figure size 432x288 with 1 Axes>"
      ]
     },
     "metadata": {},
     "output_type": "display_data"
    }
   ],
   "source": [
    "df_sampled['sex'].value_counts().sort_values().plot(kind='bar', title='Total count by sex', rot=0)"
   ]
  },
  {
   "cell_type": "code",
   "execution_count": 25,
   "metadata": {},
   "outputs": [
    {
     "name": "stderr",
     "output_type": "stream",
     "text": [
      "INFO:numexpr.utils:NumExpr defaulting to 2 threads.\n"
     ]
    },
    {
     "data": {
      "text/plain": [
       "<matplotlib.axes._subplots.AxesSubplot at 0x7fe7b8d97090>"
      ]
     },
     "execution_count": 25,
     "metadata": {},
     "output_type": "execute_result"
    },
    {
     "data": {
      "image/png": "[encoded data removed]",
      "text/plain": [
       "<Figure size 432x288 with 1 Axes>"
      ]
     },
     "metadata": {},
     "output_type": "display_data"
    }
   ],
   "source": [
    "df_sampled['sex'].where(df_sampled['target'] == 1).value_counts().sort_values().plot(kind='bar',\n",
    "                                                                                     title='Earning >$50K by sex',\n",
    "                                                                                     rot=0)"
   ]
  },
  {
   "cell_type": "code",
   "execution_count": 26,
   "metadata": {},
   "outputs": [],
   "source": [
    "df_sampled.to_csv('adult/adult-data-train-sampled.csv', index=False, header=False)\n",
    "train_sampled_s3_uri = S3Uploader.upload('adult/adult-data-train-sampled.csv', \n",
    "                                      f's3://{bucket}/{prefix}/adult-data')"
   ]
  },
  {
   "cell_type": "code",
   "execution_count": 27,
   "metadata": {},
   "outputs": [
    {
     "name": "stderr",
     "output_type": "stream",
     "text": [
      "INFO:sagemaker:Creating processing-job with name adult-sampled-clarify-pretraining-bias-2022-04-14-22-17-46\n"
     ]
    },
    {
     "name": "stdout",
     "output_type": "stream",
     "text": [
      "\n",
      "Job Name:  adult-sampled-clarify-pretraining-bias-2022-04-14-22-17-46\n",
      "Inputs:  [{'InputName': 'dataset', 'AppManaged': False, 'S3Input': {'S3Uri': 's3://sagemaker-us-east-1-104877823522/sagemaker-ml-fairness/adult-data/adult-data-train-sampled.csv', 'LocalPath': '/opt/ml/processing/input/data', 'S3DataType': 'S3Prefix', 'S3InputMode': 'File', 'S3DataDistributionType': 'FullyReplicated', 'S3CompressionType': 'None'}}, {'InputName': 'analysis_config', 'AppManaged': False, 'S3Input': {'S3Uri': 's3://sagemaker-us-east-1-104877823522/sagemaker-ml-fairness/adult-income-clarify-2022-04-14-22-17-46/clarify-pretraining-bias/analysis_config.json', 'LocalPath': '/opt/ml/processing/input/config', 'S3DataType': 'S3Prefix', 'S3InputMode': 'File', 'S3DataDistributionType': 'FullyReplicated', 'S3CompressionType': 'None'}}]\n",
      "Outputs:  [{'OutputName': 'analysis_result', 'AppManaged': False, 'S3Output': {'S3Uri': 's3://sagemaker-us-east-1-104877823522/sagemaker-ml-fairness/adult-income-clarify-2022-04-14-22-17-46/clarify-pretraining-bias', 'LocalPath': '/opt/ml/processing/output', 'S3UploadMode': 'EndOfJob'}}]\n"
     ]
    }
   ],
   "source": [
    "# Rerun the pre-training bias analysis to confirm\n",
    "exp_datetime_2 = strftime('%Y-%m-%d-%H-%M-%S', gmtime())\n",
    "\n",
    "# Creating a new trial as we are working on a new dataset\n",
    "exp_trial_2 = Trial.create(experiment_name=experiment_name, \n",
    "                         trial_name=exp_datetime_2)\n",
    "\n",
    "experiment_config={'ExperimentName': experiment_name,\n",
    "                   'TrialName': exp_trial_2.trial_name,\n",
    "                   'TrialComponentDisplayName': 'Pretraining-BiasAnalysis'}\n",
    "\n",
    "pretraining_bias_report_output_path = f's3://{bucket}/{prefix}/{experiment_name}-{exp_trial_2.trial_name}/clarify-pretraining-bias'\n",
    "\n",
    "bias_data_config = clarify.DataConfig(\n",
    "    s3_data_input_path=train_sampled_s3_uri,\n",
    "    s3_output_path=pretraining_bias_report_output_path,\n",
    "    label='target',\n",
    "    headers=df_sampled.columns.tolist(),\n",
    "    dataset_type='text/csv')\n",
    "\n",
    "bias_config = clarify.BiasConfig(\n",
    "    label_values_or_threshold=[1], \n",
    "    facet_name=['sex', 'race'], \n",
    "    facet_values_or_threshold=[[0], None])\n",
    "\n",
    "jobname = f'adult-sampled-clarify-pretraining-bias-{exp_datetime_2}'\n",
    "\n",
    "clarify_processor.run_pre_training_bias(\n",
    "    data_config=bias_data_config,\n",
    "    data_bias_config=bias_config,\n",
    "    methods='all',\n",
    "    job_name=jobname,\n",
    "    experiment_config=experiment_config,\n",
    "    wait=False,\n",
    "    logs=False)"
   ]
  },
  {
   "cell_type": "code",
   "execution_count": 28,
   "metadata": {},
   "outputs": [
    {
     "name": "stderr",
     "output_type": "stream",
     "text": [
      "INFO:sagemaker.image_uris:Same images used for training and inference. Defaulting to image scope: inference.\n",
      "INFO:sagemaker.image_uris:Ignoring unnecessary instance type: None.\n",
      "INFO:sagemaker.image_uris:Defaulting to the only supported framework/algorithm version: latest.\n",
      "INFO:sagemaker.image_uris:Ignoring unnecessary instance type: None.\n",
      "INFO:sagemaker:Creating training-job with name: adult-xgb-test-2022-04-14-22-27-32\n"
     ]
    },
    {
     "name": "stdout",
     "output_type": "stream",
     "text": [
      "2022-04-14 22:27:33 Starting - Starting the training job...\n",
      "2022-04-14 22:27:59 Starting - Preparing the instances for trainingProfilerReport-1649975252: InProgress\n",
      "......\n",
      "2022-04-14 22:29:00 Downloading - Downloading input data...\n",
      "2022-04-14 22:29:29 Training - Downloading the training image......\n",
      "2022-04-14 22:30:25 Uploading - Uploading generated training model\u001b[34m[2022-04-14 22:30:18.182 ip-10-0-165-232.ec2.internal:1 INFO utils.py:27] RULE_JOB_STOP_SIGNAL_FILENAME: None\u001b[0m\n",
      "\u001b[34m[2022-04-14:22:30:18:INFO] Imported framework sagemaker_xgboost_container.training\u001b[0m\n",
      "\u001b[34m[2022-04-14:22:30:18:INFO] Failed to parse hyperparameter eval_metric value error to Json.\u001b[0m\n",
      "\u001b[34mReturning the value itself\u001b[0m\n",
      "\u001b[34m[2022-04-14:22:30:18:INFO] Failed to parse hyperparameter objective value binary:logistic to Json.\u001b[0m\n",
      "\u001b[34mReturning the value itself\u001b[0m\n",
      "\u001b[34m[2022-04-14:22:30:18:INFO] No GPUs detected (normal if no gpus installed)\u001b[0m\n",
      "\u001b[34m[2022-04-14:22:30:18:INFO] Running XGBoost Sagemaker in algorithm mode\u001b[0m\n",
      "\u001b[34m[2022-04-14:22:30:18:INFO] Determined delimiter of CSV input is ','\u001b[0m\n",
      "\u001b[34m[2022-04-14:22:30:18:INFO] Determined delimiter of CSV input is ','\u001b[0m\n",
      "\u001b[34m[2022-04-14:22:30:18:INFO] Determined delimiter of CSV input is ','\u001b[0m\n",
      "\u001b[34m[2022-04-14:22:30:18:INFO] Determined delimiter of CSV input is ','\u001b[0m\n",
      "\u001b[34m[2022-04-14:22:30:18:INFO] Single node training.\u001b[0m\n",
      "\u001b[34m[2022-04-14:22:30:18:INFO] Train matrix has 4716 rows and 13 columns\u001b[0m\n",
      "\u001b[34m[2022-04-14:22:30:18:INFO] Validation matrix has 1628 rows\u001b[0m\n",
      "\u001b[34m[0]#011train-error:0.18596#011validation-error:0.24939\u001b[0m\n",
      "\u001b[34m[1]#011train-error:0.17112#011validation-error:0.22789\u001b[0m\n",
      "\u001b[34m[2]#011train-error:0.16264#011validation-error:0.18612\u001b[0m\n",
      "\u001b[34m[3]#011train-error:0.16094#011validation-error:0.18673\u001b[0m\n",
      "\u001b[34m[4]#011train-error:0.16137#011validation-error:0.18857\u001b[0m\n",
      "\u001b[34m[5]#011train-error:0.15818#011validation-error:0.18427\u001b[0m\n",
      "\u001b[34m[6]#011train-error:0.15649#011validation-error:0.18673\u001b[0m\n",
      "\u001b[34m[7]#011train-error:0.15076#011validation-error:0.19349\u001b[0m\n",
      "\u001b[34m[8]#011train-error:0.14991#011validation-error:0.19226\u001b[0m\n",
      "\u001b[34m[9]#011train-error:0.14440#011validation-error:0.18980\u001b[0m\n",
      "\u001b[34m[10]#011train-error:0.14058#011validation-error:0.19287\u001b[0m\n",
      "\u001b[34m[11]#011train-error:0.13847#011validation-error:0.18735\u001b[0m\n",
      "\u001b[34m[12]#011train-error:0.13422#011validation-error:0.18919\u001b[0m\n",
      "\u001b[34m[13]#011train-error:0.13253#011validation-error:0.18919\u001b[0m\n",
      "\u001b[34m[14]#011train-error:0.13147#011validation-error:0.18857\u001b[0m\n",
      "\u001b[34m[15]#011train-error:0.12913#011validation-error:0.18305\u001b[0m\n",
      "\u001b[34m[16]#011train-error:0.12723#011validation-error:0.18427\u001b[0m\n",
      "\u001b[34m[17]#011train-error:0.12765#011validation-error:0.18489\u001b[0m\n",
      "\u001b[34m[18]#011train-error:0.12511#011validation-error:0.18427\u001b[0m\n",
      "\u001b[34m[19]#011train-error:0.12489#011validation-error:0.18427\u001b[0m\n",
      "\u001b[34m[20]#011train-error:0.11641#011validation-error:0.18857\u001b[0m\n",
      "\u001b[34m[21]#011train-error:0.11747#011validation-error:0.18550\u001b[0m\n",
      "\u001b[34m[22]#011train-error:0.11662#011validation-error:0.18182\u001b[0m\n",
      "\u001b[34m[23]#011train-error:0.11493#011validation-error:0.18182\u001b[0m\n",
      "\u001b[34m[24]#011train-error:0.11408#011validation-error:0.18305\u001b[0m\n",
      "\u001b[34m[25]#011train-error:0.11344#011validation-error:0.18305\u001b[0m\n",
      "\u001b[34m[26]#011train-error:0.10878#011validation-error:0.17506\u001b[0m\n",
      "\u001b[34m[27]#011train-error:0.10793#011validation-error:0.17445\u001b[0m\n",
      "\u001b[34m[28]#011train-error:0.10751#011validation-error:0.17506\u001b[0m\n",
      "\u001b[34m[29]#011train-error:0.10708#011validation-error:0.17629\u001b[0m\n",
      "\u001b[34m[30]#011train-error:0.10708#011validation-error:0.17629\u001b[0m\n",
      "\u001b[34m[31]#011train-error:0.10623#011validation-error:0.17445\u001b[0m\n",
      "\u001b[34m[32]#011train-error:0.10305#011validation-error:0.17322\u001b[0m\n",
      "\u001b[34m[33]#011train-error:0.10178#011validation-error:0.17568\u001b[0m\n",
      "\u001b[34m[34]#011train-error:0.10114#011validation-error:0.17506\u001b[0m\n",
      "\u001b[34m[35]#011train-error:0.10114#011validation-error:0.17260\u001b[0m\n",
      "\u001b[34m[36]#011train-error:0.10051#011validation-error:0.17260\u001b[0m\n",
      "\u001b[34m[37]#011train-error:0.10008#011validation-error:0.17322\u001b[0m\n",
      "\u001b[34m[38]#011train-error:0.09903#011validation-error:0.17445\u001b[0m\n",
      "\u001b[34m[39]#011train-error:0.09457#011validation-error:0.17568\u001b[0m\n",
      "\u001b[34m[40]#011train-error:0.09457#011validation-error:0.17629\u001b[0m\n",
      "\u001b[34m[41]#011train-error:0.09436#011validation-error:0.17752\u001b[0m\n",
      "\u001b[34m[42]#011train-error:0.09415#011validation-error:0.17690\u001b[0m\n",
      "\u001b[34m[43]#011train-error:0.08906#011validation-error:0.17568\u001b[0m\n",
      "\u001b[34m[44]#011train-error:0.08842#011validation-error:0.17506\u001b[0m\n",
      "\u001b[34m[45]#011train-error:0.08800#011validation-error:0.17506\u001b[0m\n",
      "\u001b[34m[46]#011train-error:0.08715#011validation-error:0.17568\u001b[0m\n",
      "\u001b[34m[47]#011train-error:0.08673#011validation-error:0.17568\u001b[0m\n",
      "\u001b[34m[48]#011train-error:0.08545#011validation-error:0.17568\u001b[0m\n",
      "\u001b[34m[49]#011train-error:0.08545#011validation-error:0.17506\u001b[0m\n",
      "\n",
      "2022-04-14 22:31:00 Completed - Training job completed\n",
      "Training seconds: 98\n",
      "Billable seconds: 98\n"
     ]
    }
   ],
   "source": [
    "# Training a ML model using XGBoost\n",
    "\n",
    "exp_datetime_3 = strftime('%Y-%m-%d-%H-%M-%S', gmtime())\n",
    "jobname = f'adult-xgb-test-{exp_datetime_3}'\n",
    "\n",
    "experiment_config={'ExperimentName': experiment_name,\n",
    "                   'TrialName': exp_trial_2.trial_name,\n",
    "                   'TrialComponentDisplayName': 'Training'}\n",
    "\n",
    "image = image_uris.retrieve(region=region, framework='xgboost', version='1.3-1')\n",
    "\n",
    "train_s3_output = f's3://{bucket}/{prefix}/{experiment_name}-{exp_trial_2.trial_name}/training'\n",
    "\n",
    "xgb = sagemaker.estimator.Estimator(image,\n",
    "                                    role,\n",
    "                                    instance_type='ml.m5.xlarge',\n",
    "                                    instance_count=1,\n",
    "                                    output_path=train_s3_output,\n",
    "                                    enable_sagemaker_metrics=True,\n",
    "                                    sagemaker_session=session)\n",
    "xgb.set_hyperparameters(objective='binary:logistic',\n",
    "                        eval_metric='error',\n",
    "                        num_round=50)\n",
    "\n",
    "train_input = sagemaker.inputs.TrainingInput(s3_data=train_sampled_s3_uri, \n",
    "                                             content_type='csv')\n",
    "\n",
    "val_input = sagemaker.inputs.TrainingInput(s3_data=val_s3_uri, \n",
    "                                             content_type='csv')\n",
    "\n",
    "data_channels={'train': train_input, 'validation': val_input}\n",
    "\n",
    "xgb.fit(inputs=data_channels, \n",
    "        job_name=jobname, \n",
    "        experiment_config=experiment_config, \n",
    "        wait=True)"
   ]
  },
  {
   "cell_type": "code",
   "execution_count": 29,
   "metadata": {},
   "outputs": [
    {
     "name": "stderr",
     "output_type": "stream",
     "text": [
      "INFO:sagemaker:Creating model with name: adult-xgb-test-model-2022-04-14-22-27-32\n"
     ]
    },
    {
     "data": {
      "text/plain": [
       "'adult-xgb-test-model-2022-04-14-22-27-32'"
      ]
     },
     "execution_count": 29,
     "metadata": {},
     "output_type": "execute_result"
    }
   ],
   "source": [
    "model_name = f'adult-xgb-test-model-{exp_datetime_3}'\n",
    "model = xgb.create_model(name=model_name)\n",
    "\n",
    "container_def = model.prepare_container_def()\n",
    "session.create_model(model_name, role, container_def)"
   ]
  },
  {
   "cell_type": "code",
   "execution_count": 30,
   "metadata": {},
   "outputs": [],
   "source": [
    "# Detecting post-training bias\n",
    "\n",
    "experiment_config={'ExperimentName': experiment_name,\n",
    "                   'TrialName': exp_trial_2.trial_name,\n",
    "                   'TrialComponentDisplayName': 'Posttraining-BiasAnalysis'}\n",
    "\n",
    "posttraining_bias_report_output_path = f's3://{bucket}/{prefix}/{experiment_name}-{exp_trial_2.trial_name}/clarify-posttraining-bias'\n",
    "\n",
    "bias_data_config = clarify.DataConfig(\n",
    "    s3_data_input_path=train_sampled_s3_uri,\n",
    "    s3_output_path=posttraining_bias_report_output_path,\n",
    "    label='target',\n",
    "    headers=df_sampled.columns.tolist(),\n",
    "    dataset_type='text/csv')\n",
    "\n",
    "bias_config = clarify.BiasConfig(\n",
    "    label_values_or_threshold=[1], \n",
    "    facet_name=['sex', 'race'], \n",
    "    facet_values_or_threshold=[[0], None])"
   ]
  },
  {
   "cell_type": "code",
   "execution_count": 31,
   "metadata": {},
   "outputs": [],
   "source": [
    "model_config = clarify.ModelConfig(\n",
    "    model_name=model_name,\n",
    "    instance_type='ml.m5.xlarge',\n",
    "    instance_count=1,\n",
    "    accept_type='text/csv',\n",
    "    content_type='text/csv')\n",
    "\n",
    "predictions_config = clarify.ModelPredictedLabelConfig(probability_threshold=0.5)"
   ]
  },
  {
   "cell_type": "code",
   "execution_count": 32,
   "metadata": {},
   "outputs": [
    {
     "name": "stderr",
     "output_type": "stream",
     "text": [
      "INFO:sagemaker:Creating processing-job with name adult-sampled-clarify-posttraining-bias-2022-04-14-22-34-52\n"
     ]
    },
    {
     "name": "stdout",
     "output_type": "stream",
     "text": [
      "\n",
      "Job Name:  adult-sampled-clarify-posttraining-bias-2022-04-14-22-34-52\n",
      "Inputs:  [{'InputName': 'dataset', 'AppManaged': False, 'S3Input': {'S3Uri': 's3://sagemaker-us-east-1-104877823522/sagemaker-ml-fairness/adult-data/adult-data-train-sampled.csv', 'LocalPath': '/opt/ml/processing/input/data', 'S3DataType': 'S3Prefix', 'S3InputMode': 'File', 'S3DataDistributionType': 'FullyReplicated', 'S3CompressionType': 'None'}}, {'InputName': 'analysis_config', 'AppManaged': False, 'S3Input': {'S3Uri': 's3://sagemaker-us-east-1-104877823522/sagemaker-ml-fairness/adult-income-clarify-2022-04-14-22-17-46/clarify-posttraining-bias/analysis_config.json', 'LocalPath': '/opt/ml/processing/input/config', 'S3DataType': 'S3Prefix', 'S3InputMode': 'File', 'S3DataDistributionType': 'FullyReplicated', 'S3CompressionType': 'None'}}]\n",
      "Outputs:  [{'OutputName': 'analysis_result', 'AppManaged': False, 'S3Output': {'S3Uri': 's3://sagemaker-us-east-1-104877823522/sagemaker-ml-fairness/adult-income-clarify-2022-04-14-22-17-46/clarify-posttraining-bias', 'LocalPath': '/opt/ml/processing/output', 'S3UploadMode': 'EndOfJob'}}]\n"
     ]
    }
   ],
   "source": [
    "exp_datetime_4 = strftime('%Y-%m-%d-%H-%M-%S', gmtime())\n",
    "jobname = f'adult-sampled-clarify-posttraining-bias-{exp_datetime_4}'\n",
    "\n",
    "clarify_processor.run_post_training_bias(\n",
    "    data_config=bias_data_config,\n",
    "    data_bias_config=bias_config,\n",
    "    model_config=model_config,\n",
    "    model_predicted_label_config=predictions_config,\n",
    "    methods='all',    \n",
    "    job_name=jobname,\n",
    "    experiment_config=experiment_config,\n",
    "    wait=False,\n",
    "    logs=False)"
   ]
  },
  {
   "cell_type": "code",
   "execution_count": 33,
   "metadata": {},
   "outputs": [],
   "source": [
    "# Explaining ML models using SHAP values\n",
    "\n",
    "experiment_config={'ExperimentName': experiment_name,\n",
    "                   'TrialName': exp_trial_2.trial_name,\n",
    "                   'TrialComponentDisplayName': 'Posttraining-SHAP'}\n",
    "\n",
    "explainability_output_path = f's3://{bucket}/{prefix}/{experiment_name}-{exp_trial_2.trial_name}/clarify-explainability'\n",
    "\n",
    "explainability_data_config = clarify.DataConfig(\n",
    "    s3_data_input_path=train_sampled_s3_uri,\n",
    "    s3_output_path=explainability_output_path,\n",
    "    label='target',\n",
    "    headers=df_sampled.columns.tolist(),\n",
    "    dataset_type='text/csv')\n",
    "\n",
    "model_config = clarify.ModelConfig(\n",
    "    model_name=model_name,\n",
    "    instance_type='ml.m5.xlarge',\n",
    "    instance_count=1,\n",
    "    accept_type='text/csv',\n",
    "    content_type='text/csv')\n",
    "\n",
    "baseline = df_sampled.query('target == 1').mode().iloc[0, 1:].astype(int).tolist()\n",
    "shap_config = clarify.SHAPConfig(\n",
    "    baseline=[baseline],\n",
    "    num_samples=15,\n",
    "    agg_method='mean_abs')"
   ]
  },
  {
   "cell_type": "code",
   "execution_count": 34,
   "metadata": {},
   "outputs": [
    {
     "name": "stderr",
     "output_type": "stream",
     "text": [
      "INFO:sagemaker:Creating processing-job with name adult-sampled-clarify-posttraining-shap-2022-04-14-22-45-01\n"
     ]
    },
    {
     "name": "stdout",
     "output_type": "stream",
     "text": [
      "\n",
      "Job Name:  adult-sampled-clarify-posttraining-shap-2022-04-14-22-45-01\n",
      "Inputs:  [{'InputName': 'dataset', 'AppManaged': False, 'S3Input': {'S3Uri': 's3://sagemaker-us-east-1-104877823522/sagemaker-ml-fairness/adult-data/adult-data-train-sampled.csv', 'LocalPath': '/opt/ml/processing/input/data', 'S3DataType': 'S3Prefix', 'S3InputMode': 'File', 'S3DataDistributionType': 'FullyReplicated', 'S3CompressionType': 'None'}}, {'InputName': 'analysis_config', 'AppManaged': False, 'S3Input': {'S3Uri': 's3://sagemaker-us-east-1-104877823522/sagemaker-ml-fairness/adult-income-clarify-2022-04-14-22-17-46/clarify-explainability/analysis_config.json', 'LocalPath': '/opt/ml/processing/input/config', 'S3DataType': 'S3Prefix', 'S3InputMode': 'File', 'S3DataDistributionType': 'FullyReplicated', 'S3CompressionType': 'None'}}]\n",
      "Outputs:  [{'OutputName': 'analysis_result', 'AppManaged': False, 'S3Output': {'S3Uri': 's3://sagemaker-us-east-1-104877823522/sagemaker-ml-fairness/adult-income-clarify-2022-04-14-22-17-46/clarify-explainability', 'LocalPath': '/opt/ml/processing/output', 'S3UploadMode': 'EndOfJob'}}]\n",
      "..............................\u001b[34m2022-04-14 22:49:47,786 logging.conf not found when configuring logging, using default logging configuration.\u001b[0m\n",
      "\u001b[34m2022-04-14 22:49:47,787 Starting SageMaker Clarify Processing job\u001b[0m\n",
      "\u001b[34m2022-04-14 22:49:47,787 Analysis config path: /opt/ml/processing/input/config/analysis_config.json\u001b[0m\n",
      "\u001b[34m2022-04-14 22:49:47,787 Analysis result path: /opt/ml/processing/output\u001b[0m\n",
      "\u001b[34m2022-04-14 22:49:47,787 This host is algo-1.\u001b[0m\n",
      "\u001b[34m2022-04-14 22:49:47,787 This host is the leader.\u001b[0m\n",
      "\u001b[34m2022-04-14 22:49:47,787 Number of hosts in the cluster is 1.\u001b[0m\n",
      "\u001b[34m2022-04-14 22:49:47,944 Running Python / Pandas based analyzer.\u001b[0m\n",
      "\u001b[34m2022-04-14 22:49:47,945 Dataset type: text/csv uri: /opt/ml/processing/input/data\u001b[0m\n",
      "\u001b[34m2022-04-14 22:49:47,951 Loading dataset...\u001b[0m\n",
      "\u001b[34m2022-04-14 22:49:47,964 Loaded dataset. Dataset info:\u001b[0m\n",
      "\u001b[34m<class 'pandas.core.frame.DataFrame'>\u001b[0m\n",
      "\u001b[34mRangeIndex: 4716 entries, 0 to 4715\u001b[0m\n",
      "\u001b[34mData columns (total 13 columns):\n",
      " #   Column          Non-Null Count  Dtype\u001b[0m\n",
      "\u001b[34m---  ------          --------------  -----\n",
      " 0   age             4716 non-null   int64\n",
      " 1   workclass       4716 non-null   int64\n",
      " 2   fnlwgt          4716 non-null   int64\n",
      " 3   education-num   4716 non-null   int64\n",
      " 4   marital-status  4716 non-null   int64\n",
      " 5   occupation      4716 non-null   int64\n",
      " 6   relationship    4716 non-null   int64\n",
      " 7   race            4716 non-null   int64\n",
      " 8   sex             4716 non-null   int64\n",
      " 9   capital-gain    4716 non-null   int64\n",
      " 10  capital-loss    4716 non-null   int64\n",
      " 11  hours-per-week  4716 non-null   int64\n",
      " 12  native-country  4716 non-null   int64\u001b[0m\n",
      "\u001b[34mdtypes: int64(13)\u001b[0m\n",
      "\u001b[34mmemory usage: 479.1 KB\u001b[0m\n",
      "\u001b[34m2022-04-14 22:49:48,120 Spinning up shadow endpoint\u001b[0m\n",
      "\u001b[34m2022-04-14 22:49:48,121 Creating endpoint-config with name sm-clarify-config-1649976588-3843\u001b[0m\n",
      "\u001b[34m2022-04-14 22:49:48,205 Creating endpoint: 'sm-clarify-adult-xgb-test-model-2022-04-14-22-2-1649976588-fa54'\u001b[0m\n",
      "\u001b[34m2022-04-14 22:49:48,460 Using endpoint name: sm-clarify-adult-xgb-test-model-2022-04-14-22-2-1649976588-fa54\u001b[0m\n",
      "\u001b[34m2022-04-14 22:49:48,460 Waiting for endpoint ...\u001b[0m\n",
      "\u001b[34m2022-04-14 22:49:48,460 Checking endpoint status:\u001b[0m\n",
      "\u001b[34mLegend:\u001b[0m\n",
      "\u001b[34m(OutOfService: x, Creating: -, Updating: -, InService: !, RollingBack: <, Deleting: o, Failed: *)\u001b[0m\n",
      "\u001b[34m2022-04-14 22:52:48,899 Endpoint is in service after 180 seconds\u001b[0m\n",
      "\u001b[34m2022-04-14 22:52:48,900 Endpoint ready.\u001b[0m\n",
      "\u001b[34m2022-04-14 22:52:48,901 SHAP n_samples 15\u001b[0m\n",
      "\u001b[34m2022-04-14 22:52:49,025 =====================================================\u001b[0m\n",
      "\u001b[34m2022-04-14 22:52:49,025 Shap analyzer: explaining 4716 rows, 13 columns...\u001b[0m\n",
      "\u001b[34m2022-04-14 22:52:49,025 =====================================================\n",
      "  0% (0 of 4716) |                       | Elapsed Time: 0:00:00 ETA:  --:--:--\u001b[0m\n",
      "\u001b[34m 69% (3259 of 4716) |#############       | Elapsed Time: 0:00:30 ETA:   0:00:13\u001b[0m\n",
      "\u001b[34m100% (4716 of 4716) |####################| Elapsed Time: 0:00:42 Time:  0:00:42\u001b[0m\n",
      "\u001b[34m2022-04-14 22:53:31,844 getting explanations took 42.82 seconds.\u001b[0m\n",
      "\u001b[34m2022-04-14 22:53:31,844 ===================================================\u001b[0m\n",
      "\u001b[34m2022-04-14 22:53:32,120 converting explanations to tabular took 0.28 seconds.\u001b[0m\n",
      "\u001b[34m2022-04-14 22:53:32,121 ===================================================\u001b[0m\n",
      "\u001b[34m2022-04-14 22:53:32,123 Wrote baseline used to compute explanations to: /opt/ml/processing/output/explanations_shap/baseline.csv\u001b[0m\n",
      "\u001b[34m2022-04-14 22:53:32,205 Wrote 4716 local explanations to: /opt/ml/processing/output/explanations_shap/out.csv\u001b[0m\n",
      "\u001b[34m2022-04-14 22:53:32,205 writing local explanations took 0.08 seconds.\u001b[0m\n",
      "\u001b[34m2022-04-14 22:53:32,205 ===================================================\u001b[0m\n",
      "\u001b[34m2022-04-14 22:53:32,207 aggregating local explanations took 0.00 seconds.\u001b[0m\n",
      "\u001b[34m2022-04-14 22:53:32,207 ===================================================\u001b[0m\n",
      "\u001b[34m2022-04-14 22:53:32,207 Shap analysis finished.\u001b[0m\n",
      "\u001b[34m2022-04-14 22:53:32,208 Stop using endpoint: sm-clarify-adult-xgb-test-model-2022-04-14-22-2-1649976588-fa54\u001b[0m\n",
      "\u001b[34m2022-04-14 22:53:32,208 Deleting endpoint configuration with name: sm-clarify-config-1649976588-3843\u001b[0m\n",
      "\u001b[34m2022-04-14 22:53:32,315 Deleting endpoint with name: sm-clarify-adult-xgb-test-model-2022-04-14-22-2-1649976588-fa54\u001b[0m\n",
      "\u001b[34m2022-04-14 22:53:32,425 Model endpoint delivered 108.94073 requests per second and a total of 4718 requests over 43 seconds\u001b[0m\n",
      "\u001b[34m2022-04-14 22:53:34,721 Stop using endpoint: None\u001b[0m\n",
      "\u001b[34m2022-04-14 22:53:45,956 jupyter nbconvert --to html --output /opt/ml/processing/output/report.html /opt/ml/processing/output/report.ipynb --template sagemaker-xai\u001b[0m\n",
      "\u001b[34m[NbConvertApp] Converting notebook /opt/ml/processing/output/report.ipynb to html\u001b[0m\n",
      "\u001b[34m[NbConvertApp] Writing 716485 bytes to /opt/ml/processing/output/report.html\u001b[0m\n",
      "\u001b[34m2022-04-14 22:53:46,974 HTML report '/opt/ml/processing/output/report.html' generated successfully.\u001b[0m\n",
      "\u001b[34m2022-04-14 22:53:46,974 wkhtmltopdf -q /opt/ml/processing/output/report.html /opt/ml/processing/output/report.pdf\u001b[0m\n",
      "\u001b[34m2022-04-14 22:53:47,532 PDF report '/opt/ml/processing/output/report.pdf' generated successfully.\u001b[0m\n",
      "\u001b[34m2022-04-14 22:53:47,533 Collected analyses: \u001b[0m\n",
      "\u001b[34m{\n",
      "    \"version\": \"1.0\",\n",
      "    \"explanations\": {\n",
      "        \"kernel_shap\": {\n",
      "            \"label0\": {\n",
      "                \"global_shap_values\": {\n",
      "                    \"age\": 0.07461868921722906,\n",
      "                    \"workclass\": 0.036478882859694764,\n",
      "                    \"fnlwgt\": 0.045249096472301284,\n",
      "                    \"education-num\": 0.10491481934484756,\n",
      "                    \"marital-status\": 0.0869709911462905,\n",
      "                    \"occupation\": 0.06305816751798705,\n",
      "                    \"relationship\": 0.061099765813498096,\n",
      "                    \"race\": 0.033025968030553146,\n",
      "                    \"sex\": 0.03474780689796274,\n",
      "                    \"capital-gain\": 0.050697712106763285,\n",
      "                    \"capital-loss\": 0.03817513490865623,\n",
      "                    \"hours-per-week\": 0.054879066760977806,\n",
      "                    \"native-country\": 0.07017644200738248\n",
      "                },\n",
      "                \"expected_value\": 0.807217001914978\n",
      "            }\n",
      "        }\n",
      "    }\u001b[0m\n",
      "\u001b[34m}\u001b[0m\n",
      "\u001b[34m2022-04-14 22:53:47,533 exit_message: Completed: SageMaker XAI Analyzer ran successfully\u001b[0m\n",
      "\u001b[34m---!\u001b[0m\n",
      "\n"
     ]
    }
   ],
   "source": [
    "exp_datetime_5 = strftime('%Y-%m-%d-%H-%M-%S', gmtime())\n",
    "jobname = f'adult-sampled-clarify-posttraining-shap-{exp_datetime_5}'\n",
    "\n",
    "clarify_processor.run_explainability(\n",
    "    data_config=explainability_data_config,\n",
    "    model_config=model_config,\n",
    "    explainability_config=shap_config,\n",
    "    job_name=jobname,\n",
    "    experiment_config=experiment_config)"
   ]
  },
  {
   "cell_type": "code",
   "execution_count": null,
   "metadata": {},
   "outputs": [],
   "source": [
    "S3Downloader.download(f'{explainability_output_path}/explanations_shap/out.csv', \n",
    "                      './',\n",
    "                      sagemaker_session=sess)\n",
    "local_explanations_out = pd.read_csv('out.csv')\n",
    "feature_names = [str.replace(c, '_label0', '') \n",
    "                 for c in local_explanations_out.columns.to_series()]\n",
    "local_explanations_out.columns = feature_names\n",
    "\n",
    "selected_example = 500\n",
    "sample_prediction='>50K' if sum(local_explanations_out.iloc[selected_example]) > 0 else '<=50K'\n",
    "print(f'Example number: {selected_example}')\n",
    "print(f'with model prediction: {sample_prediction}')\n",
    "print()\n",
    "print(f'Feature values: \\n{df_sampled.iloc[selected_example].to_frame().T}')\n",
    "\n",
    "local_explanations_out.iloc[selected_example].plot(\n",
    "    kind='barh', \n",
    "    title=f'Local explanation for the {selected_example}th example.', \n",
    "    rot=0)"
   ]
  },
  {
   "cell_type": "code",
   "execution_count": null,
   "metadata": {},
   "outputs": [],
   "source": []
  }
 ],
 "metadata": {
  "instance_type": "ml.t3.medium",
  "kernelspec": {
   "display_name": "Python 3 (Data Science)",
   "language": "python",
   "name": "python3__SAGEMAKER_INTERNAL__arn:aws:sagemaker:us-east-1:081325390199:image/datascience-1.0"
  },
  "language_info": {
   "codemirror_mode": {
    "name": "ipython",
    "version": 3
   },
   "file_extension": ".py",
   "mimetype": "text/x-python",
   "name": "python",
   "nbconvert_exporter": "python",
   "pygments_lexer": "ipython3",
   "version": "3.7.10"
  }
 },
 "nbformat": 4,
 "nbformat_minor": 4
}
